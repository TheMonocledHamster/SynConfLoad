{
  "cells": [
    {
      "cell_type": "code",
      "execution_count": null,
      "metadata": {
        "id": "CdX5CMhJxTtw"
      },
      "outputs": [],
      "source": [
        "import sqlite3\n",
        "conn = sqlite3.connect('traces/db.sqlite')\n",
        "cur = conn.cursor()"
      ]
    },
    {
      "cell_type": "code",
      "execution_count": null,
      "metadata": {
        "id": "sBDm7EwGl_5m"
      },
      "outputs": [],
      "source": [
        "query = \"\"\"\n",
        "        SELECT vmr.vmId, vmr.starttime, vmr.endtime, vmt.core, vmt.memory\n",
        "        FROM vm AS vmr\n",
        "        JOIN vmtype AS vmt\n",
        "        ON vmr.vmTypeId = vmt.vmTypeId\n",
        "        AND vmr.starttime > 0\n",
        "        AND vmr.endtime IS NOT NULL\n",
        "        LIMIT 100;\n",
        "        \"\"\""
      ]
    },
    {
      "cell_type": "code",
      "execution_count": null,
      "metadata": {
        "id": "4-EMLwamyGBK"
      },
      "outputs": [],
      "source": [
        "cur.execute(\"SELECT vmID,tenantId, vmTypeId FROM vm LIMIT 100;\")\n",
        "for row in cur.fetchall():\n",
        "  print(row)"
      ]
    },
    {
      "cell_type": "code",
      "execution_count": null,
      "metadata": {
        "id": "owb2Qa3i19ID"
      },
      "outputs": [],
      "source": [
        "cur.execute(\"SELECT vmTypeId,COUNT(machineId) FROM vmtype GROUP BY vmTypeId;\")\n",
        "for row in cur.fetchall():\n",
        "  print(row)"
      ]
    },
    {
      "cell_type": "code",
      "execution_count": null,
      "metadata": {
        "id": "t8JB7-xe_oWw"
      },
      "outputs": [],
      "source": [
        "cur.execute(query)\n",
        "for row in cur.fetchall():\n",
        "  print(row)"
      ]
    },
    {
      "cell_type": "code",
      "execution_count": null,
      "metadata": {
        "id": "xlfxSAElxuRF"
      },
      "outputs": [],
      "source": [
        "conn.close()"
      ]
    }
  ],
  "metadata": {
    "colab": {
      "provenance": []
    },
    "kernelspec": {
      "display_name": "Python 3.10.8 64-bit",
      "language": "python",
      "name": "python3"
    },
    "language_info": {
      "codemirror_mode": {
        "name": "ipython",
        "version": 3
      },
      "file_extension": ".py",
      "mimetype": "text/x-python",
      "name": "python",
      "nbconvert_exporter": "python",
      "pygments_lexer": "ipython3",
      "version": "3.10.8"
    },
    "vscode": {
      "interpreter": {
        "hash": "e7370f93d1d0cde622a1f8e1c04877d8463912d04d973331ad4851f04de6915a"
      }
    }
  },
  "nbformat": 4,
  "nbformat_minor": 0
}
